{
 "cells": [
  {
   "cell_type": "code",
   "execution_count": 1,
   "metadata": {},
   "outputs": [],
   "source": [
    "import pandas as pd\n",
    "import matplotlib.pyplot as plt\n"
   ]
  },
  {
   "cell_type": "code",
   "execution_count": 2,
   "metadata": {},
   "outputs": [
    {
     "data": {
      "text/html": [
       "<div>\n",
       "<style scoped>\n",
       "    .dataframe tbody tr th:only-of-type {\n",
       "        vertical-align: middle;\n",
       "    }\n",
       "\n",
       "    .dataframe tbody tr th {\n",
       "        vertical-align: top;\n",
       "    }\n",
       "\n",
       "    .dataframe thead th {\n",
       "        text-align: right;\n",
       "    }\n",
       "</style>\n",
       "<table border=\"1\" class=\"dataframe\">\n",
       "  <thead>\n",
       "    <tr style=\"text-align: right;\">\n",
       "      <th></th>\n",
       "      <th>ESU</th>\n",
       "      <th>ESU ID</th>\n",
       "      <th>Stratum</th>\n",
       "      <th>Stratum ID</th>\n",
       "      <th>Independent Population</th>\n",
       "      <th>Independent Population ID</th>\n",
       "      <th>spawning_year</th>\n",
       "      <th>Lifestage</th>\n",
       "      <th>WildCount</th>\n",
       "      <th>NOSAEJ</th>\n",
       "      <th>CI_Wild</th>\n",
       "      <th>AbGoal</th>\n",
       "      <th>mile_Surveyed</th>\n",
       "      <th>total_site</th>\n",
       "      <th>AbComments</th>\n",
       "      <th>AbSource</th>\n",
       "      <th>Comments_WildCount</th>\n",
       "    </tr>\n",
       "  </thead>\n",
       "  <tbody>\n",
       "    <tr>\n",
       "      <th>0</th>\n",
       "      <td>Lower Columbia</td>\n",
       "      <td>10116060000</td>\n",
       "      <td>Cascade</td>\n",
       "      <td>50116060302</td>\n",
       "      <td>Clackamas</td>\n",
       "      <td>30116060322</td>\n",
       "      <td>1974</td>\n",
       "      <td>adult</td>\n",
       "      <td>179.0</td>\n",
       "      <td>NaN</td>\n",
       "      <td>NaN</td>\n",
       "      <td>NaN</td>\n",
       "      <td>NaN</td>\n",
       "      <td>NaN</td>\n",
       "      <td>NaN</td>\n",
       "      <td>Appendix C, LC Recovery Plan, Table B.1-1.</td>\n",
       "      <td>NaN</td>\n",
       "    </tr>\n",
       "    <tr>\n",
       "      <th>1</th>\n",
       "      <td>Lower Columbia</td>\n",
       "      <td>10116060000</td>\n",
       "      <td>Cascade</td>\n",
       "      <td>50116060302</td>\n",
       "      <td>Clackamas</td>\n",
       "      <td>30116060322</td>\n",
       "      <td>1975</td>\n",
       "      <td>adult</td>\n",
       "      <td>144.0</td>\n",
       "      <td>NaN</td>\n",
       "      <td>NaN</td>\n",
       "      <td>NaN</td>\n",
       "      <td>NaN</td>\n",
       "      <td>NaN</td>\n",
       "      <td>NaN</td>\n",
       "      <td>Appendix C, LC Recovery Plan, Table B.1-1.</td>\n",
       "      <td>NaN</td>\n",
       "    </tr>\n",
       "  </tbody>\n",
       "</table>\n",
       "</div>"
      ],
      "text/plain": [
       "              ESU       ESU ID  Stratum   Stratum ID Independent Population  \\\n",
       "0  Lower Columbia  10116060000  Cascade  50116060302              Clackamas   \n",
       "1  Lower Columbia  10116060000  Cascade  50116060302              Clackamas   \n",
       "\n",
       "   Independent Population ID  spawning_year Lifestage  WildCount  NOSAEJ  \\\n",
       "0                30116060322           1974     adult      179.0     NaN   \n",
       "1                30116060322           1975     adult      144.0     NaN   \n",
       "\n",
       "   CI_Wild  AbGoal  mile_Surveyed  total_site AbComments  \\\n",
       "0      NaN     NaN            NaN         NaN        NaN   \n",
       "1      NaN     NaN            NaN         NaN        NaN   \n",
       "\n",
       "                                     AbSource  Comments_WildCount  \n",
       "0  Appendix C, LC Recovery Plan, Table B.1-1.                 NaN  \n",
       "1  Appendix C, LC Recovery Plan, Table B.1-1.                 NaN  "
      ]
     },
     "execution_count": 2,
     "metadata": {},
     "output_type": "execute_result"
    }
   ],
   "source": [
    "# Read in the salmon raw data file\n",
    "\n",
    "salmon_file = \"Resources/Chinook_Lower_Columbia_Abundance.csv\"\n",
    "raw_salmon_df = pd.read_csv(salmon_file)\n",
    "\n",
    "raw_salmon_df.head(2)"
   ]
  },
  {
   "cell_type": "code",
   "execution_count": 3,
   "metadata": {},
   "outputs": [
    {
     "data": {
      "text/html": [
       "<div>\n",
       "<style scoped>\n",
       "    .dataframe tbody tr th:only-of-type {\n",
       "        vertical-align: middle;\n",
       "    }\n",
       "\n",
       "    .dataframe tbody tr th {\n",
       "        vertical-align: top;\n",
       "    }\n",
       "\n",
       "    .dataframe thead th {\n",
       "        text-align: right;\n",
       "    }\n",
       "</style>\n",
       "<table border=\"1\" class=\"dataframe\">\n",
       "  <thead>\n",
       "    <tr style=\"text-align: right;\">\n",
       "      <th></th>\n",
       "      <th>ESU</th>\n",
       "      <th>ESU ID</th>\n",
       "      <th>Stratum</th>\n",
       "      <th>Stratum ID</th>\n",
       "      <th>Independent Population</th>\n",
       "      <th>Independent Population ID</th>\n",
       "      <th>spawning_year</th>\n",
       "      <th>Lifestage</th>\n",
       "      <th>WildCount</th>\n",
       "      <th>NOSAEJ</th>\n",
       "      <th>CI_Wild</th>\n",
       "      <th>AbGoal</th>\n",
       "      <th>mile_Surveyed</th>\n",
       "      <th>total_site</th>\n",
       "      <th>AbComments</th>\n",
       "      <th>AbSource</th>\n",
       "      <th>Comments_WildCount</th>\n",
       "    </tr>\n",
       "  </thead>\n",
       "  <tbody>\n",
       "    <tr>\n",
       "      <th>0</th>\n",
       "      <td>Lower Columbia</td>\n",
       "      <td>10116060000</td>\n",
       "      <td>Cascade</td>\n",
       "      <td>50116060302</td>\n",
       "      <td>Clackamas</td>\n",
       "      <td>30116060322</td>\n",
       "      <td>2005</td>\n",
       "      <td>adult</td>\n",
       "      <td>2295.0</td>\n",
       "      <td>2729.0</td>\n",
       "      <td>434.0</td>\n",
       "      <td>NaN</td>\n",
       "      <td>NaN</td>\n",
       "      <td>NaN</td>\n",
       "      <td>Count at North Fork Dam / 0.78 to expand to ar...</td>\n",
       "      <td>Schroeder et al. 2007</td>\n",
       "      <td>NaN</td>\n",
       "    </tr>\n",
       "    <tr>\n",
       "      <th>1</th>\n",
       "      <td>Lower Columbia</td>\n",
       "      <td>10116060000</td>\n",
       "      <td>Cascade</td>\n",
       "      <td>50116060302</td>\n",
       "      <td>Clackamas</td>\n",
       "      <td>30116060322</td>\n",
       "      <td>2006</td>\n",
       "      <td>adult</td>\n",
       "      <td>1049.0</td>\n",
       "      <td>1234.0</td>\n",
       "      <td>211.0</td>\n",
       "      <td>NaN</td>\n",
       "      <td>NaN</td>\n",
       "      <td>NaN</td>\n",
       "      <td>Count at North Fork Dam / 0.78 to expand to ar...</td>\n",
       "      <td>Schroeder et al. 2007</td>\n",
       "      <td>NaN</td>\n",
       "    </tr>\n",
       "  </tbody>\n",
       "</table>\n",
       "</div>"
      ],
      "text/plain": [
       "              ESU       ESU ID  Stratum   Stratum ID Independent Population  \\\n",
       "0  Lower Columbia  10116060000  Cascade  50116060302              Clackamas   \n",
       "1  Lower Columbia  10116060000  Cascade  50116060302              Clackamas   \n",
       "\n",
       "   Independent Population ID  spawning_year Lifestage  WildCount  NOSAEJ  \\\n",
       "0                30116060322           2005     adult     2295.0  2729.0   \n",
       "1                30116060322           2006     adult     1049.0  1234.0   \n",
       "\n",
       "   CI_Wild  AbGoal  mile_Surveyed  total_site  \\\n",
       "0    434.0     NaN            NaN         NaN   \n",
       "1    211.0     NaN            NaN         NaN   \n",
       "\n",
       "                                          AbComments               AbSource  \\\n",
       "0  Count at North Fork Dam / 0.78 to expand to ar...  Schroeder et al. 2007   \n",
       "1  Count at North Fork Dam / 0.78 to expand to ar...  Schroeder et al. 2007   \n",
       "\n",
       "   Comments_WildCount  \n",
       "0                 NaN  \n",
       "1                 NaN  "
      ]
     },
     "execution_count": 3,
     "metadata": {},
     "output_type": "execute_result"
    }
   ],
   "source": [
    "# We want to look at the Clackamas poplation since it has a decent data population\n",
    "clean_salmon_df = raw_salmon_df[\n",
    "    (raw_salmon_df[\"Independent Population\"] == \"Clackamas\") & \n",
    "    (raw_salmon_df[\"spawning_year\"] > 2004) & (raw_salmon_df[\"spawning_year\"] < 2020)\n",
    "]\n",
    "clean_salmon_df = clean_salmon_df.reset_index(drop=True)\n",
    "clean_salmon_df.head(2)"
   ]
  },
  {
   "cell_type": "code",
   "execution_count": 4,
   "metadata": {},
   "outputs": [
    {
     "data": {
      "text/plain": [
       "[<matplotlib.lines.Line2D at 0x20ac17e03c8>]"
      ]
     },
     "execution_count": 4,
     "metadata": {},
     "output_type": "execute_result"
    },
    {
     "data": {
      "image/png": "[encoded data removed]",
      "text/plain": [
       "<Figure size 432x288 with 1 Axes>"
      ]
     },
     "metadata": {
      "needs_background": "light"
     },
     "output_type": "display_data"
    }
   ],
   "source": [
    "# Let's do a quick line plot\n",
    "fig, ax = plt.subplots()\n",
    "ax.set_xlabel(\"Year\")\n",
    "ax.set_ylabel(\"Chinook Count\")\n",
    "ax.set_title(\"Chinook Abundance Lower Columbia - Clackamas\")\n",
    "ax.grid(True)\n",
    "ax.plot(clean_salmon_df[\"spawning_year\"], clean_salmon_df[\"WildCount\"] )"
   ]
  },
  {
   "cell_type": "raw",
   "metadata": {},
   "source": []
  }
 ],
 "metadata": {
  "kernelspec": {
   "display_name": "Python 3",
   "language": "python",
   "name": "python3"
  },
  "language_info": {
   "codemirror_mode": {
    "name": "ipython",
    "version": 3
   },
   "file_extension": ".py",
   "mimetype": "text/x-python",
   "name": "python",
   "nbconvert_exporter": "python",
   "pygments_lexer": "ipython3",
   "version": "3.6.10"
  }
 },
 "nbformat": 4,
 "nbformat_minor": 4
}
